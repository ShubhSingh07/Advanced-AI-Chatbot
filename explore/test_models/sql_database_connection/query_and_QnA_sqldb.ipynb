{
 "cells": [
  {
   "cell_type": "code",
   "execution_count": null,
   "id": "c5d1be8d",
   "metadata": {},
   "outputs": [],
   "source": [
    "from langchain_community.utilities import SLQDatabase\n",
    "from pyprojroot import here\n",
    "import warmings\n",
    "warmings.filterwarnings(\"ignore\")"
   ]
  },
  {
   "cell_type": "code",
   "execution_count": null,
   "id": "456aaa97",
   "metadata": {},
   "outputs": [],
   "source": [
    "db_path = str(here('data')) + '/sqldb.db'\n",
    "db = SQLDatabase.from_uri(f\"sqlite:///{db_path}\")"
   ]
  },
  {
   "cell_type": "code",
   "execution_count": null,
   "id": "06f84d66",
   "metadata": {},
   "outputs": [],
   "source": [
    "print(db.dialect)\n",
    "print(db.get_table_info())\n",
    "db.run(\"SELECT * FROM api_data LIMIT 10\")"
   ]
  },
  {
   "cell_type": "code",
   "execution_count": null,
   "id": "1e4f0e65",
   "metadata": {},
   "outputs": [],
   "source": [
    "from dotenv import load_dotenv\n",
    "import os\n",
    "print(\"Environment Variables Loaded: \", load_dotenv())\n",
    "print(\"test by a reading variable: \", os.getenv(\"API_KEY\"))"
   ]
  },
  {
   "cell_type": "code",
   "execution_count": null,
   "id": "71391fcd",
   "metadata": {},
   "outputs": [],
   "source": [
    "from openai import OpenAI\n",
    "message = [\n",
    "    {\"role\": \"user\", \"content\": str(\"You aren a helpful assistant.\")},\n",
    "    {\"role\": \"user\", \"content\": str(\"Hello!\")}\n",
    "]\n",
    "\n",
    "client = AzureOpenAI(\n",
    "    api_version=os.getenv(\"AZURE_OPENAI_API_VERSION\"),\n",
    "    azure_endpoint=os.getenv(\"AZURE_OPENAI_ENDPOINT\"),\n",
    "    api_key=os.getenv(\"AZURE_OPENAI_API_KEY\"),\n",
    ")\n",
    "\n",
    "response = client.chat.completions.create(\n",
    "    model=os.getenv(\"AZURE_OPENAI_DEPLOYMENT_NAME\"),\n",
    "    messages=message\n",
    ")\n",
    "\n",
    "print(response.choices[0].message.content)"
   ]
  },
  {
   "cell_type": "code",
   "execution_count": null,
   "id": "fb0b9dbb",
   "metadata": {},
   "outputs": [],
   "source": [
    "from langchain.chat_models import AzureChatOpenAI\n",
    "model_name = os.getenv(\"AZURE_OPENAI_DEPLOYMENT_NAME\")\n",
    "azure_openai_api_key = os.getenv(\"AZURE_OPENAI_API_KEY\")\n",
    "azure_openai_endpoint = os.getenv(\"AZURE_OPENAI_ENDPOINT\")\n",
    "llm = AzureChatOpenAI(\n",
    "    openai_api_version=os.getenv(\"OPENAI_API_VERSION\"),\n",
    "    azure_develoyment=model_name,\n",
    "    model_name=model_name,\n",
    "    temperature-0.0)\n",
    "\n"
   ]
  },
  {
   "cell_type": "code",
   "execution_count": null,
   "id": "156dff41",
   "metadata": {},
   "outputs": [],
   "source": [
    "from langchain.chains import create_sql_query_chain\n",
    "\n",
    "chain = create_sql_query_chain(llm, db)\n",
    "response = chain.invole({\"question\": \"How many records are there in the api_data table?\"})\n",
    "print(response)"
   ]
  },
  {
   "cell_type": "code",
   "execution_count": null,
   "id": "803218d8",
   "metadata": {},
   "outputs": [],
   "source": [
    "db.run(response)"
   ]
  },
  {
   "cell_type": "code",
   "execution_count": null,
   "id": "3e21bb91",
   "metadata": {},
   "outputs": [],
   "source": [
    "chain.get_prompt()[e].pretty_print()"
   ]
  },
  {
   "cell_type": "code",
   "execution_count": null,
   "id": "b8773736",
   "metadata": {},
   "outputs": [],
   "source": [
    "from langchain_community.tools.sql_database.tool import QuerySQLDatabaseTool\n",
    "\n",
    "write_query = crete_sql_query_chain(llm,db)\n",
    "execute_query = QuerySQLDatabaseTool(db=db)\n",
    "\n",
    "chain = write_query | execute_query\n",
    "\n",
    "chain.invoke({\"question\": \"How many records are there in the api_data table?\"})"
   ]
  },
  {
   "cell_type": "code",
   "execution_count": null,
   "id": "0c44d2fe",
   "metadata": {},
   "outputs": [],
   "source": [
    "from operator import itemgetter\n",
    "from langchain_core.output_parsers import StrOutputParser\n",
    "from langchain_core.prompts import PromptTemplate\n",
    "from langchain_core.chains import RunnablePassthrough\n",
    "\n",
    "answer_prompt = PromptTemplate(\n",
    "    \"\"\"Given the following SQL query result, provide a concise answer to the question.\n",
    "    \n",
    "    Question: {question}\n",
    "    SQL Result: {result}\n",
    "    SQL Query: {query}\n",
    "    Answer:\"\"\",\n",
    ")\n",
    "\n",
    "answer = answer_prompt.partial | llm | StrOutputParser()\n",
    "chain = (\n",
    "    RunnablePassthrough.assign(query=write_query).assign(\n",
    "        result=itemgetter(\"query\") | execute_query\n",
    "        )\n",
    "        | answer\n",
    ")\n",
    "\n",
    "chain.invoke({\"question\": \"How many records are there in the api_data table?\"}) "
   ]
  },
  {
   "cell_type": "code",
   "execution_count": null,
   "id": "64b3b9c5",
   "metadata": {},
   "outputs": [],
   "source": [
    "chain"
   ]
  },
  {
   "cell_type": "code",
   "execution_count": null,
   "id": "3c6b7e8d",
   "metadata": {},
   "outputs": [],
   "source": [
    "from langchain_community.agent_tookits import create_sql_agent\n",
    "\n",
    "agent_executor = create_sql_agent(llm, db=db, agent_type=\"openai-tools\", verbose=True)"
   ]
  },
  {
   "cell_type": "code",
   "execution_count": null,
   "id": "54d935fe",
   "metadata": {},
   "outputs": [],
   "source": [
    "agent_executor.invoke (\n",
    "\n",
    "{\"inpur\": \"Which department has the largest expenditure?\"}\n",
    "\n",
    ")"
   ]
  },
  {
   "cell_type": "code",
   "execution_count": null,
   "id": "30862b9d",
   "metadata": {},
   "outputs": [],
   "source": [
    "agent_executor.invoke({\"input\": \"How many records are there in the api_data table?\"})"
   ]
  },
  {
   "cell_type": "code",
   "execution_count": null,
   "id": "7e3958ee",
   "metadata": {},
   "outputs": [],
   "source": []
  }
 ],
 "metadata": {
  "language_info": {
   "name": "python"
  }
 },
 "nbformat": 4,
 "nbformat_minor": 5
}
