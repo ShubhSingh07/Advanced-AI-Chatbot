{
 "cells": [
  {
   "cell_type": "code",
   "execution_count": null,
   "id": "d7848595",
   "metadata": {},
   "outputs": [],
   "source": [
    "from json import load\n",
    "import os \n",
    "from pyprojroot import here\n",
    "import pandas as pd\n",
    "import chromadb\n",
    "from openai import AzureOpenAI\n",
    "import warnings\n",
    "warnings.filterwarnings(\"ignore\")\n",
    "from dotenv import load_dotenv\n",
    "print(load_dotenv())"
   ]
  },
  {
   "cell_type": "code",
   "execution_count": null,
   "id": "8c7928b0",
   "metadata": {},
   "outputs": [],
   "source": [
    "azure_openai_api_key = os.environ[\"OPENAI_API_KEY\"]\n",
    "azure_openai_endpoint = os.environ[\"OPENAI_API_BASE\"]"
   ]
  },
  {
   "cell_type": "code",
   "execution_count": null,
   "id": "72dfebb0",
   "metadata": {},
   "outputs": [],
   "source": [
    "azure_client = AzureOpenAI(\n",
    "    api_key = azure_openai_api_key,\n",
    "    api_version = \"2024-06-30\",\n",
    "    azure_endpoint = azure_openai_endpoint,\n",
    ")\n",
    "chroma_client = chromadb.PersistentClient(path=str(here(\"data/chroma_db\")))"
   ]
  },
  {
   "cell_type": "code",
   "execution_count": null,
   "id": "eaeda853",
   "metadata": {},
   "outputs": [],
   "source": [
    "collection = chroma_client.create_collection(name=\"csv_sql_db_collection\")\n"
   ]
  },
  {
   "cell_type": "code",
   "execution_count": null,
   "id": "5d14913c",
   "metadata": {},
   "outputs": [],
   "source": [
    "file_dir = here(\"data/csv_sql_db/data/api_data.csv\")\n",
    "df = pd.read_csv(file_dir, rows=10)\n"
   ]
  },
  {
   "cell_type": "code",
   "execution_count": null,
   "id": "d2fd18c3",
   "metadata": {},
   "outputs": [],
   "source": [
    "df"
   ]
  },
  {
   "cell_type": "code",
   "execution_count": null,
   "id": "f02d9ed4",
   "metadata": {},
   "outputs": [],
   "source": [
    "docs = []\n",
    "metadata = []\n",
    "ids = []\n",
    "embeddings = []\n",
    "for index, row in df.iterrows():\n",
    "    output_str = \"\"\n",
    "    \n",
    "    for col in df.columns:\n",
    "        output_str += f\"{col}: {row[col]}\\n\"\n",
    "    response = azure_client.embeddings.create(\n",
    "        input=output_str,\n",
    "        model=\"text-embedding-ada-002\"\n",
    "    )\n",
    "    embeddings.append(response.data[0].embedding)\n",
    "    docs.append(output_str)\n",
    "    metadata.append({\"source\": \"api_data.csv\"})\n",
    "    ids.append(f\"str{index}\")"
   ]
  },
  {
   "cell_type": "code",
   "execution_count": null,
   "id": "9e43b990",
   "metadata": {},
   "outputs": [],
   "source": [
    "docs"
   ]
  },
  {
   "cell_type": "code",
   "execution_count": null,
   "id": "f63bf081",
   "metadata": {},
   "outputs": [],
   "source": [
    "print(metadatas)\n",
    "print(ids)"
   ]
  },
  {
   "cell_type": "code",
   "execution_count": null,
   "id": "fb52ac90",
   "metadata": {},
   "outputs": [],
   "source": [
    "embeddings[0][:10]"
   ]
  },
  {
   "cell_type": "code",
   "execution_count": null,
   "id": "c9b02097",
   "metadata": {},
   "outputs": [],
   "source": [
    "collection.add(\n",
    "    documents=docs,\n",
    "    metadatas=metadata,\n",
    "    ids=ids,\n",
    "    embeddings=embeddings\n",
    ")"
   ]
  },
  {
   "cell_type": "code",
   "execution_count": null,
   "id": "9d87492c",
   "metadata": {},
   "outputs": [],
   "source": [
    "print(\"Number of documents in the collection:\", collection.count())"
   ]
  },
  {
   "cell_type": "code",
   "execution_count": null,
   "id": "c8578659",
   "metadata": {},
   "outputs": [],
   "source": [
    "from openai import AzureOpenAI"
   ]
  },
  {
   "cell_type": "code",
   "execution_count": null,
   "id": "be605017",
   "metadata": {},
   "outputs": [],
   "source": [
    "model_name = \"gpt-35-turbo\"\n",
    "azure_openai_api_key = os.environ[\"OPENAI_API_KEY\"]\n",
    "azure_openai_endpoint = os.environ[\"OPENAI_API_BASE\"]"
   ]
  },
  {
   "cell_type": "code",
   "execution_count": null,
   "id": "e588b657",
   "metadata": {},
   "outputs": [],
   "source": [
    "azure_client = AzureOpenAI(\n",
    "    api_version = os.getenv(\"OPENAI_API_VERSION\"),\n",
    "    azure_endpoint = os.getenv(\"OPENAI_API_BASE\"),\n",
    "    api_key = azure_openai_api_key,\n",
    ")"
   ]
  },
  {
   "cell_type": "code",
   "execution_count": null,
   "id": "1f775baf",
   "metadata": {},
   "outputs": [],
   "source": [
    "query_texts = \"I need more info about Own Harris\"\n",
    "response = azure_client.chat.completions.create(\n",
    "    input = query_texts,\n",
    "    model = \"text-embedding-ada-002\"\n",
    ")\n",
    "query_embeddings = response.data[0].embedding\n",
    "\n"
   ]
  },
  {
   "cell_type": "code",
   "execution_count": null,
   "id": "2eb704c2",
   "metadata": {},
   "outputs": [],
   "source": [
    "vectordb = chroma_client.get_collection(name=\"csv_sql_db_collection\")\n",
    "vectordb.count()\n"
   ]
  },
  {
   "cell_type": "code",
   "execution_count": null,
   "id": "5a138bcc",
   "metadata": {},
   "outputs": [],
   "source": [
    "results = vectordb.query(\n",
    "    query_embeddings = query_embeddings, n_results=1\n",
    ")\n",
    "\n",
    "results"
   ]
  },
  {
   "cell_type": "code",
   "execution_count": null,
   "id": "522f463d",
   "metadata": {},
   "outputs": [],
   "source": [
    "system_role = \"\"\"You are a helpful AI assistant. Use the provided context to answer the question at the end. If you don't know the answer, just say that you don't know, don't try to make up an answer.\"\"\"\n",
    "prompt = f\"User's question: {query_texts} \\n\\n Search results:\\n {results}\"\n",
    "\n",
    "messages = [\n",
    "    {\"role\": \"system\", \"content\": str(\n",
    "        system_role\n",
    "        )},\n",
    "    {\"role\": \"user\", \"content\": prompt}\n",
    "]"
   ]
  },
  {
   "cell_type": "code",
   "execution_count": null,
   "id": "66fa3d3e",
   "metadata": {},
   "outputs": [],
   "source": [
    "response = azure_client.chat.completions.create(\n",
    "    model=os.getenv(\"gpt_deloyment_name\"),\n",
    "    messages=messages,\n",
    ")"
   ]
  },
  {
   "cell_type": "code",
   "execution_count": null,
   "id": "2dcacdb3",
   "metadata": {},
   "outputs": [],
   "source": [
    "response.choices[0].message.content"
   ]
  },
  {
   "cell_type": "code",
   "execution_count": null,
   "id": "466dbe0a",
   "metadata": {},
   "outputs": [],
   "source": [
    "df"
   ]
  },
  {
   "cell_type": "code",
   "execution_count": null,
   "id": "e078720c",
   "metadata": {},
   "outputs": [],
   "source": []
  }
 ],
 "metadata": {
  "language_info": {
   "name": "python"
  }
 },
 "nbformat": 4,
 "nbformat_minor": 5
}
