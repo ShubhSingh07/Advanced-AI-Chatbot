{
 "cells": [
  {
   "cell_type": "code",
   "execution_count": null,
   "id": "fe020aca",
   "metadata": {},
   "outputs": [],
   "source": [
    "from langchain_community.utilities import SQLDatabase\n",
    "from pyprojroot import here  "
   ]
  },
  {
   "cell_type": "code",
   "execution_count": null,
   "id": "1a08fd43",
   "metadata": {},
   "outputs": [],
   "source": [
    "db_path = str(here(\"data\")) + \"/sqldb.db\""
   ]
  },
  {
   "cell_type": "code",
   "execution_count": null,
   "id": "7b74d3fe",
   "metadata": {},
   "outputs": [],
   "source": [
    "db = SQLDatabase.from_uri(f\"sqlite:///{db_path}\")\n",
    "print(db.dialect)\n",
    "print(db.get_table_info())\n",
    "db.run(\"SELECT * FROM api_data LIMIT 10\")"
   ]
  }
 ],
 "metadata": {
  "language_info": {
   "name": "python"
  }
 },
 "nbformat": 4,
 "nbformat_minor": 5
}
