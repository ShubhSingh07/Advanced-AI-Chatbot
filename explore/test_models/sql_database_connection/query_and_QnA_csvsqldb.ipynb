{
 "cells": [
  {
   "cell_type": "code",
   "execution_count": null,
   "id": "469e6bf9",
   "metadata": {},
   "outputs": [],
   "source": [
    "import pandas as pd\n",
    "from pyprojroot import here"
   ]
  },
  {
   "cell_type": "code",
   "execution_count": null,
   "id": "4c383cd0",
   "metadata": {},
   "outputs": [],
   "source": [
    "df = pd.read_csv(here(\"data/csv_xlsx/Actual_vs_Forecasted_Sales.csv\"))\n",
    "print(df.shape)\n",
    "print(df.columns.tolist())\n",
    "display(df.head(3))\n",
    "\n"
   ]
  },
  {
   "cell_type": "code",
   "execution_count": null,
   "id": "81b2508f",
   "metadata": {},
   "outputs": [],
   "source": [
    "from langchain_community.utilities import SQLDatabase\n",
    "from sqlalchemy import create_engine\n",
    "db_path = str(here(\"data\")) + \"/test_sqldb\"\n",
    "db_path = f\"sqlite:///{db_path}\"\n",
    "\n",
    "engine = create_engine(db_path)\n",
    "\n",
    "df.to_sql(\"Actual_Expenditure\", engine, index=False)\n"
   ]
  },
  {
   "cell_type": "code",
   "execution_count": null,
   "id": "0a1de0d8",
   "metadata": {},
   "outputs": [],
   "source": [
    "db = SQLDatabase(engine=engine)\n",
    "print(db.dialect)\n",
    "print(db.get_usable_tables_names())\n",
    "db.run(\"SELECT * FROM Actual_Expenditure LIMIT 2\")\n"
   ]
  },
  {
   "cell_type": "code",
   "execution_count": null,
   "id": "d07b1355",
   "metadata": {},
   "outputs": [],
   "source": [
    "df[df['Actual Sales'] > 5000]"
   ]
  },
  {
   "cell_type": "code",
   "execution_count": null,
   "id": "918227da",
   "metadata": {},
   "outputs": [],
   "source": [
    "import os\n",
    "from dotenv import load_dotenv\n",
    "import warnings\n",
    "warnings.filterwarnings(\"ignore\")\n",
    "print(\"Environment variables are loaded:\", load_dotenv())\n",
    "print(\"test by reading a variables:\", os.getenv(\"OPENAI_API_KEY\"))"
   ]
  },
  {
   "cell_type": "code",
   "execution_count": null,
   "id": "43236638",
   "metadata": {},
   "outputs": [],
   "source": [
    "from pyexpat import model\n",
    "from langchain.chat_models import AzureChatOpenAI\n",
    "\n",
    "model_name = os.getenv(\"gpt_develoyment_name\")\n",
    "azure_openai_api_key = os.environ[\"AZURE_OPENAI_API_KEY\"]\n",
    "azure_openai_endpoint = os.environ[\"AZURE_OPENAI_ENDPOINT\"]\n",
    "llm = AzureChatOpenAI(\n",
    "    openai_api_version=os.getenv(\"OPENAI_API_VERSION\"),\n",
    "    deployment_name=model_name,\n",
    "    model_name=model_name,\n",
    "    temperature=0.0\n",
    ")"
   ]
  },
  {
   "cell_type": "code",
   "execution_count": null,
   "id": "8cd3e04f",
   "metadata": {},
   "outputs": [],
   "source": [
    "from langchain_community.agent_toolkits import SQLDatabaseToolkit\n",
    "agent_executor = create_sql_agent(llm, db=db, agent_type=\"openai-tools\", verbose=True)"
   ]
  },
  {
   "cell_type": "code",
   "execution_count": null,
   "id": "8aaf9f68",
   "metadata": {},
   "outputs": [],
   "source": [
    "agent_executor.invoke({\"input\": \"How many records are there in the api_data table?\"})\n"
   ]
  },
  {
   "cell_type": "code",
   "execution_count": null,
   "id": "7aac7e5a",
   "metadata": {},
   "outputs": [],
   "source": [
    "df[df[\"Survived\"]==1][\"Age\"].mean(0)"
   ]
  }
 ],
 "metadata": {
  "language_info": {
   "name": "python"
  }
 },
 "nbformat": 4,
 "nbformat_minor": 5
}
